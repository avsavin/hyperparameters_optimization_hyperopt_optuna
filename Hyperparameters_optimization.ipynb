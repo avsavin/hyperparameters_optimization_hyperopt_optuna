{
 "cells": [
  {
   "attachments": {},
   "cell_type": "markdown",
   "metadata": {},
   "source": [
    "# ML-7. Machine learning model hyperparateres optimisation\n",
    "\n",
    "Task: Train logistic regression and random forest. Select hyperparameters using basic and advanced optimization methods(GridSeachCV, RandomizedSearchCV, Hyperopt, Optuna). The maximum number of iterations should not exceed 50. Use f1-score as an optimization criterion."
   ]
  },
  {
   "cell_type": "code",
   "execution_count": 1,
   "metadata": {},
   "outputs": [],
   "source": [
    "#import libratiries \n",
    "import numpy as np #for matrix calculations\n",
    "import pandas as pd #for data analysis and preprocessing\n",
    "import matplotlib.pyplot as plt #for visualization\n",
    "import seaborn as sns #for visualization\n",
    "\n",
    "import sys\n",
    "import os\n",
    "import warnings\n",
    "\n",
    "from sklearn import linear_model #linear models\n",
    "from sklearn import tree #decision trees\n",
    "from sklearn import ensemble #ensembles\n",
    "from sklearn import metrics #metrics\n",
    "#from sklearn import preprocessing \n",
    "from sklearn.model_selection import train_test_split \n",
    "\n",
    "%matplotlib inline\n",
    "plt.style.use('seaborn-v0_8-notebook')"
   ]
  },
  {
   "attachments": {},
   "cell_type": "markdown",
   "metadata": {},
   "source": [
    "## 1. Data overview"
   ]
  },
  {
   "attachments": {},
   "cell_type": "markdown",
   "metadata": {},
   "source": [
    "Data presented in CSV format. Each line represents a molecule.\n",
    "\n",
    "The first column (Activity) contains experimental data describing the actual biological response [0, 1].\n",
    "Other columns D1-D1776 represent molecular descriptors — these are calculated properties that can fix some characteristics of a molecule, such as size, shape, or composition of elements.\n",
    "Pre-processing is not required, the data are already coded and normalized."
   ]
  },
  {
   "cell_type": "code",
   "execution_count": 2,
   "metadata": {},
   "outputs": [
    {
     "data": {
      "text/html": [
       "<div>\n",
       "<style scoped>\n",
       "    .dataframe tbody tr th:only-of-type {\n",
       "        vertical-align: middle;\n",
       "    }\n",
       "\n",
       "    .dataframe tbody tr th {\n",
       "        vertical-align: top;\n",
       "    }\n",
       "\n",
       "    .dataframe thead th {\n",
       "        text-align: right;\n",
       "    }\n",
       "</style>\n",
       "<table border=\"1\" class=\"dataframe\">\n",
       "  <thead>\n",
       "    <tr style=\"text-align: right;\">\n",
       "      <th></th>\n",
       "      <th>Activity</th>\n",
       "      <th>D1</th>\n",
       "      <th>D2</th>\n",
       "      <th>D3</th>\n",
       "      <th>D4</th>\n",
       "      <th>D5</th>\n",
       "      <th>D6</th>\n",
       "      <th>D7</th>\n",
       "      <th>D8</th>\n",
       "      <th>D9</th>\n",
       "      <th>...</th>\n",
       "      <th>D1767</th>\n",
       "      <th>D1768</th>\n",
       "      <th>D1769</th>\n",
       "      <th>D1770</th>\n",
       "      <th>D1771</th>\n",
       "      <th>D1772</th>\n",
       "      <th>D1773</th>\n",
       "      <th>D1774</th>\n",
       "      <th>D1775</th>\n",
       "      <th>D1776</th>\n",
       "    </tr>\n",
       "  </thead>\n",
       "  <tbody>\n",
       "    <tr>\n",
       "      <th>0</th>\n",
       "      <td>1</td>\n",
       "      <td>0.000000</td>\n",
       "      <td>0.497009</td>\n",
       "      <td>0.10</td>\n",
       "      <td>0.0</td>\n",
       "      <td>0.132956</td>\n",
       "      <td>0.678031</td>\n",
       "      <td>0.273166</td>\n",
       "      <td>0.585445</td>\n",
       "      <td>0.743663</td>\n",
       "      <td>...</td>\n",
       "      <td>0</td>\n",
       "      <td>0</td>\n",
       "      <td>0</td>\n",
       "      <td>0</td>\n",
       "      <td>0</td>\n",
       "      <td>0</td>\n",
       "      <td>0</td>\n",
       "      <td>0</td>\n",
       "      <td>0</td>\n",
       "      <td>0</td>\n",
       "    </tr>\n",
       "    <tr>\n",
       "      <th>1</th>\n",
       "      <td>1</td>\n",
       "      <td>0.366667</td>\n",
       "      <td>0.606291</td>\n",
       "      <td>0.05</td>\n",
       "      <td>0.0</td>\n",
       "      <td>0.111209</td>\n",
       "      <td>0.803455</td>\n",
       "      <td>0.106105</td>\n",
       "      <td>0.411754</td>\n",
       "      <td>0.836582</td>\n",
       "      <td>...</td>\n",
       "      <td>1</td>\n",
       "      <td>1</td>\n",
       "      <td>1</td>\n",
       "      <td>1</td>\n",
       "      <td>0</td>\n",
       "      <td>1</td>\n",
       "      <td>0</td>\n",
       "      <td>0</td>\n",
       "      <td>1</td>\n",
       "      <td>0</td>\n",
       "    </tr>\n",
       "    <tr>\n",
       "      <th>2</th>\n",
       "      <td>1</td>\n",
       "      <td>0.033300</td>\n",
       "      <td>0.480124</td>\n",
       "      <td>0.00</td>\n",
       "      <td>0.0</td>\n",
       "      <td>0.209791</td>\n",
       "      <td>0.610350</td>\n",
       "      <td>0.356453</td>\n",
       "      <td>0.517720</td>\n",
       "      <td>0.679051</td>\n",
       "      <td>...</td>\n",
       "      <td>0</td>\n",
       "      <td>0</td>\n",
       "      <td>0</td>\n",
       "      <td>0</td>\n",
       "      <td>0</td>\n",
       "      <td>0</td>\n",
       "      <td>0</td>\n",
       "      <td>0</td>\n",
       "      <td>0</td>\n",
       "      <td>0</td>\n",
       "    </tr>\n",
       "    <tr>\n",
       "      <th>3</th>\n",
       "      <td>1</td>\n",
       "      <td>0.000000</td>\n",
       "      <td>0.538825</td>\n",
       "      <td>0.00</td>\n",
       "      <td>0.5</td>\n",
       "      <td>0.196344</td>\n",
       "      <td>0.724230</td>\n",
       "      <td>0.235606</td>\n",
       "      <td>0.288764</td>\n",
       "      <td>0.805110</td>\n",
       "      <td>...</td>\n",
       "      <td>0</td>\n",
       "      <td>0</td>\n",
       "      <td>0</td>\n",
       "      <td>0</td>\n",
       "      <td>0</td>\n",
       "      <td>0</td>\n",
       "      <td>0</td>\n",
       "      <td>0</td>\n",
       "      <td>0</td>\n",
       "      <td>0</td>\n",
       "    </tr>\n",
       "    <tr>\n",
       "      <th>4</th>\n",
       "      <td>0</td>\n",
       "      <td>0.100000</td>\n",
       "      <td>0.517794</td>\n",
       "      <td>0.00</td>\n",
       "      <td>0.0</td>\n",
       "      <td>0.494734</td>\n",
       "      <td>0.781422</td>\n",
       "      <td>0.154361</td>\n",
       "      <td>0.303809</td>\n",
       "      <td>0.812646</td>\n",
       "      <td>...</td>\n",
       "      <td>0</td>\n",
       "      <td>0</td>\n",
       "      <td>0</td>\n",
       "      <td>0</td>\n",
       "      <td>0</td>\n",
       "      <td>0</td>\n",
       "      <td>0</td>\n",
       "      <td>0</td>\n",
       "      <td>0</td>\n",
       "      <td>0</td>\n",
       "    </tr>\n",
       "    <tr>\n",
       "      <th>...</th>\n",
       "      <td>...</td>\n",
       "      <td>...</td>\n",
       "      <td>...</td>\n",
       "      <td>...</td>\n",
       "      <td>...</td>\n",
       "      <td>...</td>\n",
       "      <td>...</td>\n",
       "      <td>...</td>\n",
       "      <td>...</td>\n",
       "      <td>...</td>\n",
       "      <td>...</td>\n",
       "      <td>...</td>\n",
       "      <td>...</td>\n",
       "      <td>...</td>\n",
       "      <td>...</td>\n",
       "      <td>...</td>\n",
       "      <td>...</td>\n",
       "      <td>...</td>\n",
       "      <td>...</td>\n",
       "      <td>...</td>\n",
       "      <td>...</td>\n",
       "    </tr>\n",
       "    <tr>\n",
       "      <th>3746</th>\n",
       "      <td>1</td>\n",
       "      <td>0.033300</td>\n",
       "      <td>0.506409</td>\n",
       "      <td>0.10</td>\n",
       "      <td>0.0</td>\n",
       "      <td>0.209887</td>\n",
       "      <td>0.633426</td>\n",
       "      <td>0.297659</td>\n",
       "      <td>0.376124</td>\n",
       "      <td>0.727093</td>\n",
       "      <td>...</td>\n",
       "      <td>0</td>\n",
       "      <td>0</td>\n",
       "      <td>0</td>\n",
       "      <td>0</td>\n",
       "      <td>0</td>\n",
       "      <td>0</td>\n",
       "      <td>0</td>\n",
       "      <td>0</td>\n",
       "      <td>0</td>\n",
       "      <td>0</td>\n",
       "    </tr>\n",
       "    <tr>\n",
       "      <th>3747</th>\n",
       "      <td>1</td>\n",
       "      <td>0.133333</td>\n",
       "      <td>0.651023</td>\n",
       "      <td>0.15</td>\n",
       "      <td>0.0</td>\n",
       "      <td>0.151154</td>\n",
       "      <td>0.766505</td>\n",
       "      <td>0.170876</td>\n",
       "      <td>0.404546</td>\n",
       "      <td>0.787935</td>\n",
       "      <td>...</td>\n",
       "      <td>0</td>\n",
       "      <td>0</td>\n",
       "      <td>1</td>\n",
       "      <td>0</td>\n",
       "      <td>1</td>\n",
       "      <td>0</td>\n",
       "      <td>1</td>\n",
       "      <td>0</td>\n",
       "      <td>0</td>\n",
       "      <td>0</td>\n",
       "    </tr>\n",
       "    <tr>\n",
       "      <th>3748</th>\n",
       "      <td>0</td>\n",
       "      <td>0.200000</td>\n",
       "      <td>0.520564</td>\n",
       "      <td>0.00</td>\n",
       "      <td>0.0</td>\n",
       "      <td>0.179949</td>\n",
       "      <td>0.768785</td>\n",
       "      <td>0.177341</td>\n",
       "      <td>0.471179</td>\n",
       "      <td>0.872241</td>\n",
       "      <td>...</td>\n",
       "      <td>0</td>\n",
       "      <td>0</td>\n",
       "      <td>0</td>\n",
       "      <td>0</td>\n",
       "      <td>0</td>\n",
       "      <td>0</td>\n",
       "      <td>0</td>\n",
       "      <td>0</td>\n",
       "      <td>0</td>\n",
       "      <td>0</td>\n",
       "    </tr>\n",
       "    <tr>\n",
       "      <th>3749</th>\n",
       "      <td>1</td>\n",
       "      <td>0.100000</td>\n",
       "      <td>0.765646</td>\n",
       "      <td>0.00</td>\n",
       "      <td>0.0</td>\n",
       "      <td>0.536954</td>\n",
       "      <td>0.634936</td>\n",
       "      <td>0.342713</td>\n",
       "      <td>0.447162</td>\n",
       "      <td>0.672689</td>\n",
       "      <td>...</td>\n",
       "      <td>0</td>\n",
       "      <td>0</td>\n",
       "      <td>0</td>\n",
       "      <td>0</td>\n",
       "      <td>0</td>\n",
       "      <td>0</td>\n",
       "      <td>0</td>\n",
       "      <td>0</td>\n",
       "      <td>0</td>\n",
       "      <td>0</td>\n",
       "    </tr>\n",
       "    <tr>\n",
       "      <th>3750</th>\n",
       "      <td>0</td>\n",
       "      <td>0.133333</td>\n",
       "      <td>0.533952</td>\n",
       "      <td>0.00</td>\n",
       "      <td>0.0</td>\n",
       "      <td>0.347966</td>\n",
       "      <td>0.757971</td>\n",
       "      <td>0.230667</td>\n",
       "      <td>0.272652</td>\n",
       "      <td>0.854116</td>\n",
       "      <td>...</td>\n",
       "      <td>0</td>\n",
       "      <td>0</td>\n",
       "      <td>0</td>\n",
       "      <td>0</td>\n",
       "      <td>0</td>\n",
       "      <td>0</td>\n",
       "      <td>0</td>\n",
       "      <td>0</td>\n",
       "      <td>0</td>\n",
       "      <td>0</td>\n",
       "    </tr>\n",
       "  </tbody>\n",
       "</table>\n",
       "<p>3751 rows × 1777 columns</p>\n",
       "</div>"
      ],
      "text/plain": [
       "      Activity        D1        D2    D3   D4        D5        D6        D7  \\\n",
       "0            1  0.000000  0.497009  0.10  0.0  0.132956  0.678031  0.273166   \n",
       "1            1  0.366667  0.606291  0.05  0.0  0.111209  0.803455  0.106105   \n",
       "2            1  0.033300  0.480124  0.00  0.0  0.209791  0.610350  0.356453   \n",
       "3            1  0.000000  0.538825  0.00  0.5  0.196344  0.724230  0.235606   \n",
       "4            0  0.100000  0.517794  0.00  0.0  0.494734  0.781422  0.154361   \n",
       "...        ...       ...       ...   ...  ...       ...       ...       ...   \n",
       "3746         1  0.033300  0.506409  0.10  0.0  0.209887  0.633426  0.297659   \n",
       "3747         1  0.133333  0.651023  0.15  0.0  0.151154  0.766505  0.170876   \n",
       "3748         0  0.200000  0.520564  0.00  0.0  0.179949  0.768785  0.177341   \n",
       "3749         1  0.100000  0.765646  0.00  0.0  0.536954  0.634936  0.342713   \n",
       "3750         0  0.133333  0.533952  0.00  0.0  0.347966  0.757971  0.230667   \n",
       "\n",
       "            D8        D9  ...  D1767  D1768  D1769  D1770  D1771  D1772  \\\n",
       "0     0.585445  0.743663  ...      0      0      0      0      0      0   \n",
       "1     0.411754  0.836582  ...      1      1      1      1      0      1   \n",
       "2     0.517720  0.679051  ...      0      0      0      0      0      0   \n",
       "3     0.288764  0.805110  ...      0      0      0      0      0      0   \n",
       "4     0.303809  0.812646  ...      0      0      0      0      0      0   \n",
       "...        ...       ...  ...    ...    ...    ...    ...    ...    ...   \n",
       "3746  0.376124  0.727093  ...      0      0      0      0      0      0   \n",
       "3747  0.404546  0.787935  ...      0      0      1      0      1      0   \n",
       "3748  0.471179  0.872241  ...      0      0      0      0      0      0   \n",
       "3749  0.447162  0.672689  ...      0      0      0      0      0      0   \n",
       "3750  0.272652  0.854116  ...      0      0      0      0      0      0   \n",
       "\n",
       "      D1773  D1774  D1775  D1776  \n",
       "0         0      0      0      0  \n",
       "1         0      0      1      0  \n",
       "2         0      0      0      0  \n",
       "3         0      0      0      0  \n",
       "4         0      0      0      0  \n",
       "...     ...    ...    ...    ...  \n",
       "3746      0      0      0      0  \n",
       "3747      1      0      0      0  \n",
       "3748      0      0      0      0  \n",
       "3749      0      0      0      0  \n",
       "3750      0      0      0      0  \n",
       "\n",
       "[3751 rows x 1777 columns]"
      ]
     },
     "execution_count": 2,
     "metadata": {},
     "output_type": "execute_result"
    }
   ],
   "source": [
    "data = pd.read_csv('_train_sem09.csv')\n",
    "data"
   ]
  },
  {
   "attachments": {},
   "cell_type": "markdown",
   "metadata": {},
   "source": [
    "The data look pretty balanced"
   ]
  },
  {
   "cell_type": "code",
   "execution_count": 3,
   "metadata": {},
   "outputs": [
    {
     "data": {
      "image/png": "[encoded data removed]",
      "text/plain": [
       "<Figure size 800x550 with 1 Axes>"
      ]
     },
     "metadata": {},
     "output_type": "display_data"
    }
   ],
   "source": [
    "sns.countplot(data=data, x='Activity');"
   ]
  },
  {
   "attachments": {},
   "cell_type": "markdown",
   "metadata": {},
   "source": [
    "Create a matrix of observations $X$ and a vector of responses $y$"
   ]
  },
  {
   "cell_type": "code",
   "execution_count": 4,
   "metadata": {},
   "outputs": [],
   "source": [
    "X = data.drop(['Activity'], axis=1)\n",
    "y = data['Activity']"
   ]
  },
  {
   "attachments": {},
   "cell_type": "markdown",
   "metadata": {},
   "source": [
    "Split data: 80% of the dataset goes into the training set and 20% of the dataset goes into the testing set"
   ]
  },
  {
   "cell_type": "code",
   "execution_count": 5,
   "metadata": {},
   "outputs": [],
   "source": [
    "X_train, X_test, y_train, y_test = train_test_split(X, y, random_state = 42, test_size = 0.2)"
   ]
  },
  {
   "attachments": {},
   "cell_type": "markdown",
   "metadata": {},
   "source": [
    "## 2. Logistic regression hyperparameters optimization "
   ]
  },
  {
   "attachments": {},
   "cell_type": "markdown",
   "metadata": {},
   "source": [
    "Let's set metrics that were obtained without additional settings, i.e. with default hyperparameter values to see our baseline"
   ]
  },
  {
   "cell_type": "code",
   "execution_count": 6,
   "metadata": {},
   "outputs": [
    {
     "name": "stdout",
     "output_type": "stream",
     "text": [
      "F1_score train: 0.88\n",
      "Accuracy test: 0.75\n",
      "f1_score test: 0.79\n"
     ]
    },
    {
     "name": "stderr",
     "output_type": "stream",
     "text": [
      "/Users/anatolysavin/Desktop/PY/.conda/lib/python3.10/site-packages/sklearn/linear_model/_logistic.py:458: ConvergenceWarning: lbfgs failed to converge (status=1):\n",
      "STOP: TOTAL NO. of ITERATIONS REACHED LIMIT.\n",
      "\n",
      "Increase the number of iterations (max_iter) or scale the data as shown in:\n",
      "    https://scikit-learn.org/stable/modules/preprocessing.html\n",
      "Please also refer to the documentation for alternative solver options:\n",
      "    https://scikit-learn.org/stable/modules/linear_model.html#logistic-regression\n",
      "  n_iter_i = _check_optimize_result(\n"
     ]
    }
   ],
   "source": [
    "# create an object of the logistic regression class\n",
    "log_reg = linear_model.LogisticRegression(max_iter=50)\n",
    "# train a model minimizing logloss\n",
    "log_reg.fit(X_train, y_train)\n",
    "y_train_pred = log_reg.predict(X_train)\n",
    "print(\"F1_score train: {:.2f}\".format(metrics.f1_score(y_train,y_train_pred )))\n",
    "print(\"Accuracy test: {:.2f}\".format(log_reg.score(X_test, y_test)))\n",
    "y_test_pred = log_reg.predict(X_test)\n",
    "print('f1_score test: {:.2f}'.format(metrics.f1_score(y_test, y_test_pred)))"
   ]
  },
  {
   "attachments": {},
   "cell_type": "markdown",
   "metadata": {},
   "source": [
    "We noticed that there is no convergence on values less than 500 interactions, while on all the range of the number of iterations it does not affect Accuracy and F1_score"
   ]
  },
  {
   "attachments": {},
   "cell_type": "markdown",
   "metadata": {},
   "source": [
    "### 2.1. Logistic regression: **GridSearchCV**"
   ]
  },
  {
   "cell_type": "code",
   "execution_count": 7,
   "metadata": {},
   "outputs": [
    {
     "name": "stdout",
     "output_type": "stream",
     "text": [
      "CPU times: user 682 ms, sys: 207 ms, total: 890 ms\n",
      "Wall time: 32.2 s\n"
     ]
    }
   ],
   "source": [
    "from sklearn.model_selection import GridSearchCV\n",
    "\n",
    "# switching off warning output due to a large number of warnings about the lack of convergence\n",
    "warnings.filterwarnings(action='ignore')\n",
    "os.environ[\"PYTHONWARNINGS\"] = \"ignore\" # Also affect subprocesses\n",
    "\n",
    "param_grid = [{\n",
    "              'solver': ['lbfgs', 'sag']}, # withoht regularisaion\n",
    "              {'penalty': ['l2'] , # regularisaiton type\n",
    "              'solver': ['lbfgs', 'sag'], # method\n",
    "               'C': [0.01, 0.1, 0.3, 0.5, 0.7, 0.9, 1]}, # coef of regularisation\n",
    "              {'penalty': ['l1', 'l2'] ,\n",
    "              'solver': ['liblinear', 'saga'],\n",
    "               'C': [0.01, 0.1, 0.3, 0.5, 0.7, 0.9, 1]}\n",
    "]\n",
    "grid_search = GridSearchCV( \n",
    "        estimator=linear_model.LogisticRegression(\n",
    "        random_state=42, #set the state to reproduce results each run\n",
    "        max_iter=50, #number of iteration \n",
    "        ), \n",
    "    param_grid=param_grid, \n",
    "    cv=5, \n",
    "    n_jobs = -1,\n",
    "    scoring = 'f1',\n",
    "    verbose=False\n",
    ")\n",
    "\n",
    "%time grid_search.fit(X_train, y_train);\n",
    "\n",
    "\n"
   ]
  },
  {
   "cell_type": "code",
   "execution_count": 8,
   "metadata": {},
   "outputs": [
    {
     "name": "stdout",
     "output_type": "stream",
     "text": [
      "accuracy test: 0.80\n",
      "f1_score test: 0.80\n",
      "Best parameters: {'C': 0.3, 'penalty': 'l1', 'solver': 'liblinear'}\n"
     ]
    }
   ],
   "source": [
    "print(\"accuracy test: {:.2f}\".format(grid_search.score(X_test, y_test)))\n",
    "y_test_pred = grid_search.predict(X_test)\n",
    "print('f1_score test: {:.2f}'.format(metrics.f1_score(y_test, y_test_pred)))\n",
    "print(\"Best parameters: {}\".format(grid_search.best_params_))"
   ]
  },
  {
   "attachments": {},
   "cell_type": "markdown",
   "metadata": {},
   "source": [
    "Conclusion: Grid search (GridSearchCV) for selected criterion F1_Score allowed to achieve improvement of model parameters compared to default parameters even with a limited number of iterations"
   ]
  },
  {
   "cell_type": "code",
   "execution_count": 9,
   "metadata": {},
   "outputs": [
    {
     "data": {
      "image/png": "[encoded data removed]",
      "text/plain": [
       "<Figure size 800x550 with 2 Axes>"
      ]
     },
     "metadata": {},
     "output_type": "display_data"
    }
   ],
   "source": [
    "# let's visualize our grid\n",
    "visual = pd.pivot_table(pd.DataFrame(grid_search.cv_results_),\n",
    "                        values='mean_test_score', index='param_C',\n",
    "                        columns=['param_solver','param_penalty'])\n",
    "sns.heatmap(visual, annot=True, fmt=\".3%\" )\n",
    "plt.title('Heatmap of F1_score by solver and С') \n",
    "sns.set(rc={'figure.figsize':(12, 8)}) "
   ]
  },
  {
   "attachments": {},
   "cell_type": "markdown",
   "metadata": {},
   "source": [
    "### 2.2. Logistic regression: **RandomizedSearchCV**"
   ]
  },
  {
   "cell_type": "code",
   "execution_count": 10,
   "metadata": {},
   "outputs": [
    {
     "name": "stdout",
     "output_type": "stream",
     "text": [
      "CPU times: user 1.38 s, sys: 31.9 ms, total: 1.41 s\n",
      "Wall time: 8.23 s\n",
      "accuracy train: 0.87\n",
      "accuracy test: 0.78\n",
      "f1_score test: 0.78\n",
      "Best parameters: {'solver': 'sag', 'penalty': 'l2', 'C': 0.56}\n"
     ]
    }
   ],
   "source": [
    "from sklearn.model_selection import RandomizedSearchCV\n",
    "\n",
    "#np.linspace(start(from), stop(to), num=50(qty),dtype- data type)\n",
    "param_distributions = {'penalty': ['l2', 'none'] ,\n",
    "              'solver': ['lbfgs', 'sag'],\n",
    "               'C': list(np.linspace(0.01, 1, 10, dtype=float))},\n",
    "            \n",
    "random_search = RandomizedSearchCV(\n",
    "    estimator=linear_model.LogisticRegression(random_state=42, max_iter=50), \n",
    "    param_distributions=param_distributions, \n",
    "    cv=5, \n",
    "    n_iter = 10, \n",
    "    n_jobs = -1,\n",
    "    scoring = 'f1'\n",
    ")  \n",
    "\n",
    "# switching off warnings due to the large number of convergence warnings\n",
    "if not sys.warnoptions:\n",
    "    warnings.simplefilter(\"ignore\")\n",
    "    os.environ[\"PYTHONWARNINGS\"] = \"ignore\" # Also affect subprocesses\n",
    "\n",
    "\n",
    "%time random_search.fit(X_train, y_train) \n",
    "\n",
    "print(\"accuracy train: {:.2f}\".format(random_search.score(X_train, y_train)))\n",
    "print(\"accuracy test: {:.2f}\".format(random_search.score(X_test, y_test)))\n",
    "y_test_pred = random_search.predict(X_test)\n",
    "print('f1_score test: {:.2f}'.format(metrics.f1_score(y_test, y_test_pred)))\n",
    "print(\"Best parameters: {}\".format(random_search.best_params_))"
   ]
  },
  {
   "attachments": {},
   "cell_type": "markdown",
   "metadata": {},
   "source": [
    "Conclusion: without loss of quality, the random search found another set of parameters and spent five times less time compared to a full search of the grid."
   ]
  },
  {
   "attachments": {},
   "cell_type": "markdown",
   "metadata": {},
   "source": [
    "### 2.3. Logistic regression: **Hyperopt**\n"
   ]
  },
  {
   "cell_type": "code",
   "execution_count": 11,
   "metadata": {},
   "outputs": [
    {
     "name": "stdout",
     "output_type": "stream",
     "text": [
      "Version of Hyperopt : 0.2.7\n"
     ]
    }
   ],
   "source": [
    "# importing all required libraries\n",
    "from sklearn.model_selection import cross_val_score\n",
    "import hyperopt\n",
    "from hyperopt import hp, fmin, tpe, Trials, space_eval\n",
    "# fmin - base function calling our target functional \n",
    "# tpe - method of optimisation\n",
    "# hp - includes a set of methods for declaring a hyperparameter search space\n",
    "# trails - stores logging results\n",
    "\n",
    "print(\"Version of Hyperopt : {}\".format(hyperopt.__version__))"
   ]
  },
  {
   "cell_type": "code",
   "execution_count": 12,
   "metadata": {},
   "outputs": [],
   "source": [
    "# creating an objective function\n",
    "\n",
    "def hyperopt_lr(space, X=X_train, y=y_train):\n",
    "    solver=space['solver']['solver']\n",
    "    penalty=space['solver']['penalty']\n",
    "    # creating our model\n",
    "    model = linear_model.LogisticRegression(\n",
    "        random_state=42, \n",
    "        max_iter=50, \n",
    "        penalty=penalty, \n",
    "        C=space['C'], \n",
    "        solver=solver \n",
    "      )\n",
    "    # training the model\n",
    "    model.fit(X, y)\n",
    "    score = metrics.f1_score(y, model.predict(X))\n",
    "    # Because fmin() tries to minimize the objective, this function must return the negative score\n",
    "    return -score"
   ]
  },
  {
   "cell_type": "code",
   "execution_count": 13,
   "metadata": {},
   "outputs": [
    {
     "name": "stdout",
     "output_type": "stream",
     "text": [
      "100%|██████████| 20/20 [00:40<00:00,  2.04s/trial, best loss: -0.9965678627145085]\n",
      "Best parameters {'p_newton': 0, 'x_C': 0.07366102545052411, 'x_solver': 0}\n",
      "{'C': 0.07366102545052411, 'solver': {'penalty': 'none', 'solver': 'newton-cg'}}\n",
      "f1_score train: 1.00\n",
      "accuracy test: 0.70\n",
      "f1_score test: 0.73\n",
      "CPU times: user 3min 42s, sys: 51.2 s, total: 4min 33s\n",
      "Wall time: 48.4 s\n"
     ]
    }
   ],
   "source": [
    "%%time\n",
    "\n",
    "# setting parameters space\n",
    "\n",
    "space={\n",
    "       'solver':  hp.choice('x_solver',[\n",
    "                                       {'solver':'newton-cg', 'penalty': hp.choice('p_newton',['none','l2'])},\n",
    "                                        {'solver':'lbfgs', 'penalty': hp.choice('p_lbfgs',['none','l2'])},\n",
    "                                        {'solver': 'liblinear', 'penalty': hp.choice('p_lib',['l1','l2'])}, \n",
    "                                        {'solver': 'sag', 'penalty': hp.choice('p_sag',['l2','none'])}, \n",
    "                                        {'solver':'saga', 'penalty':hp.choice('p_saga',['l1','l2'])}\n",
    "                                        ]),\n",
    "        'C': hp.uniform('x_C',0,1)\n",
    "        }\n",
    "\n",
    "\n",
    "# let's start searching the best combination \n",
    "\n",
    "trials = Trials() # stores each try\n",
    "\n",
    "best=fmin(hyperopt_lr, # our function \n",
    "          space=space, # parameters space\n",
    "          algo=tpe.suggest, # default optimisation algorithm \n",
    "          max_evals=20, # max iteration\n",
    "          trials=trials, # results of each try\n",
    "          #rstate=np.random.RandomState(random_state)\n",
    "          rstate=np.random.default_rng(42)\n",
    "         )\n",
    "print(\"Best parameters {}\".format(best))\n",
    "best_params = hyperopt.space_eval(space, best)\n",
    "print(best_params)\n",
    "# metrics for our test data\n",
    "model = linear_model.LogisticRegression(\n",
    "        random_state=42, \n",
    "        max_iter=50, \n",
    "        penalty=best_params['solver']['penalty'],\n",
    "        C=best_params['C'],\n",
    "        solver=best_params['solver']['solver']\n",
    "       )\n",
    "\n",
    "\n",
    "model.fit(X_train, y_train)\n",
    "y_train_pred = model.predict(X_train)\n",
    "print('f1_score train: {:.2f}'.format(metrics.f1_score(y_train, y_train_pred)))\n",
    "print(\"accuracy test: {:.2f}\".format(model.score(X_test, y_test)))\n",
    "y_test_pred = model.predict(X_test)\n",
    "print('f1_score test: {:.2f}'.format(metrics.f1_score(y_test, y_test_pred)))"
   ]
  },
  {
   "attachments": {},
   "cell_type": "markdown",
   "metadata": {},
   "source": [
    "The result is unsatisfactory. Apparently, the model with the newton-cg method suffers of overfitting. The optimization algorithm was unable to leave the f1-score=1 zone on the training set. On the test sample, f1_score = 0.73 is lower than the results obtained by other methods of parameter selection.\n",
    "\n",
    "Let's try to exclude newton-cg from the parameter space."
   ]
  },
  {
   "cell_type": "code",
   "execution_count": 14,
   "metadata": {},
   "outputs": [
    {
     "name": "stdout",
     "output_type": "stream",
     "text": [
      "100%|██████████| 20/20 [00:18<00:00,  1.10trial/s, best loss: -0.8780185758513932]\n",
      "Best parameters {'p_lbfgs': 1, 'x_C': 0.9877372119600353, 'x_solver': 0}\n",
      "{'C': 0.9877372119600353, 'solver': {'penalty': 'l2', 'solver': 'lbfgs'}}\n",
      "f1_score train: 0.88\n",
      "accuracy test: 0.75\n",
      "f1_score test: 0.78\n",
      "CPU times: user 30.9 s, sys: 16.8 s, total: 47.7 s\n",
      "Wall time: 18.3 s\n"
     ]
    }
   ],
   "source": [
    "%%time\n",
    "\n",
    "# let's set the search space for hyperparameters without 'newton-cg'\n",
    "\n",
    "space={\n",
    "       'solver':  hp.choice('x_solver',[\n",
    "#                                       {'solver':'newton-cg', 'penalty': hp.choice('p_newton',['none','l2'])},\n",
    "                                        {'solver':'lbfgs', 'penalty': hp.choice('p_lbfgs',['none','l2'])},\n",
    "                                        {'solver': 'liblinear', 'penalty': hp.choice('p_lib',['l1','l2'])}, \n",
    "                                        {'solver': 'sag', 'penalty': hp.choice('p_sag',['l2','none'])}, \n",
    "                                        {'solver':'saga', 'penalty':hp.choice('p_saga',['l1','l2'])}\n",
    "                                        ]),\n",
    "        'C': hp.uniform('x_C',0,1)\n",
    "        }\n",
    "\n",
    "\n",
    "\n",
    "# running the search\n",
    "\n",
    "trials = Trials() \n",
    "\n",
    "best=fmin(hyperopt_lr, \n",
    "          space=space, \n",
    "          algo=tpe.suggest, \n",
    "          max_evals=20,\n",
    "          trials=trials, \n",
    "          #rstate=np.random.RandomState(random_state)\n",
    "          rstate=np.random.default_rng(42)\n",
    "         )\n",
    "print(\"Best parameters {}\".format(best))\n",
    "best_params = hyperopt.space_eval(space, best)\n",
    "print(best_params)\n",
    "# test metrics\n",
    "model = linear_model.LogisticRegression(\n",
    "        random_state=42, \n",
    "        max_iter=50, \n",
    "        penalty=best_params['solver']['penalty'],\n",
    "        C=best_params['C'],\n",
    "        solver=best_params['solver']['solver']\n",
    "       )\n",
    "model.fit(X_train, y_train)\n",
    "y_train_pred = model.predict(X_train)\n",
    "print('f1_score train: {:.2f}'.format(metrics.f1_score(y_train, y_train_pred)))\n",
    "print(\"accuracy test: {:.2f}\".format(model.score(X_test, y_test)))\n",
    "y_test_pred = model.predict(X_test)\n",
    "print('f1_score test: {:.2f}'.format(metrics.f1_score(y_test, y_test_pred)))"
   ]
  },
  {
   "attachments": {},
   "cell_type": "markdown",
   "metadata": {},
   "source": [
    "We were able to improve the F1_score on the test set by excluding the overfitting method from the search space.\n",
    "\n",
    "Let's check whether this result can be improved by further calculations."
   ]
  },
  {
   "cell_type": "code",
   "execution_count": 15,
   "metadata": {},
   "outputs": [
    {
     "name": "stdout",
     "output_type": "stream",
     "text": [
      "100%|██████████| 100/100 [00:45<00:00,  1.77trial/s, best loss: -0.8868274582560297]\n",
      "Best parameters {'p_lib': 1, 'x_C': 0.9962588981005635, 'x_solver': 1}\n",
      "{'C': 0.9962588981005635, 'solver': {'penalty': 'l2', 'solver': 'liblinear'}}\n",
      "f1_score train: 0.89\n",
      "accuracy test: 0.75\n",
      "f1_score test: 0.79\n",
      "CPU times: user 1min 34s, sys: 1min 16s, total: 2min 50s\n",
      "Wall time: 45.4 s\n"
     ]
    }
   ],
   "source": [
    "%%time\n",
    "\n",
    "# let's continue the search\n",
    "\n",
    "best=fmin(hyperopt_lr, # наша функция \n",
    "          space=space, # пространство гиперпараметров\n",
    "          algo=tpe.suggest, # алгоритм оптимизации, установлен по умолчанию, задавать необязательно\n",
    "          max_evals=100, # максимальное количество итераций\n",
    "          trials=trials, # логирование результатов\n",
    "          #rstate=np.random.RandomState(random_state)# фиксируем для повторяемости результата\n",
    "          rstate=np.random.default_rng(42)\n",
    "         )\n",
    "print(\"Best parameters {}\".format(best))\n",
    "\n",
    "best_params = hyperopt.space_eval(space, best)\n",
    "print(best_params)\n",
    "\n",
    "# рассчитаем точность для тестовой выборки\n",
    "model = linear_model.LogisticRegression(\n",
    "        random_state=42, \n",
    "        max_iter=50, \n",
    "        penalty=best_params['solver']['penalty'],\n",
    "        C=best_params['C'],\n",
    "        solver=best_params['solver']['solver']\n",
    "#        tol=best_params['tol'], \n",
    "#        l1_ratio=best_params['l1_ratio']\n",
    "        )\n",
    "\n",
    "\n",
    "model.fit(X_train, y_train)\n",
    "y_train_pred = model.predict(X_train)\n",
    "print('f1_score train: {:.2f}'.format(metrics.f1_score(y_train, y_train_pred)))\n",
    "print(\"accuracy test: {:.2f}\".format(model.score(X_test, y_test)))\n",
    "y_test_pred = model.predict(X_test)\n",
    "print('f1_score test: {:.2f}'.format(metrics.f1_score(y_test, y_test_pred)))"
   ]
  },
  {
   "attachments": {},
   "cell_type": "markdown",
   "metadata": {},
   "source": [
    "CONCLUSION: HYPEROPT with TPE optimizer has a number of advantages: it quickly reaches the region of optimal values, the result can be improved by continuing calculations from the stop point. At the same time, you need to be careful, since the algorithm may get stuck in a local extremum. Unfortunately, we did not achieve a value better than the result obtained by exhaustive search over the grid, but the values are very close."
   ]
  },
  {
   "attachments": {},
   "cell_type": "markdown",
   "metadata": {},
   "source": [
    "### 2.4. Logistic regression: **Optuna**"
   ]
  },
  {
   "cell_type": "code",
   "execution_count": 16,
   "metadata": {},
   "outputs": [
    {
     "name": "stdout",
     "output_type": "stream",
     "text": [
      "Version of Optuna: 3.3.0\n"
     ]
    }
   ],
   "source": [
    "import optuna\n",
    "\n",
    "print(\"Version of Optuna: {}\".format(optuna.__version__))"
   ]
  },
  {
   "attachments": {},
   "cell_type": "markdown",
   "metadata": {},
   "source": [
    "Let's try Optuna and this time we will use cross validation on training set to overcome problem with 'newton-cg'. Unfortunately, it did not help us so we eventually had to exclude 'newton-cg' despite it was very efficient method showed very high score on the training data. "
   ]
  },
  {
   "cell_type": "code",
   "execution_count": 19,
   "metadata": {},
   "outputs": [
    {
     "name": "stderr",
     "output_type": "stream",
     "text": [
      "[I 2023-09-08 21:44:49,249] A new study created in memory with name: LogisticRegressionClassifier\n",
      "[I 2023-09-08 21:44:51,361] Trial 0 finished with value: 0.8410413476263399 and parameters: {'Cs': 4, 'solver': 'lbfgs', 'penalty': 'l2'}. Best is trial 0 with value: 0.8410413476263399.\n",
      "[I 2023-09-08 21:45:36,189] Trial 1 finished with value: 0.852328431372549 and parameters: {'Cs': 9, 'solver': 'saga', 'penalty': 'l2'}. Best is trial 1 with value: 0.852328431372549.\n",
      "[I 2023-09-08 21:45:43,691] Trial 2 finished with value: 0.8872366790582404 and parameters: {'Cs': 2, 'solver': 'sag', 'penalty': 'l2'}. Best is trial 2 with value: 0.8872366790582404.\n",
      "[I 2023-09-08 21:45:52,060] Trial 3 finished with value: 0.8746139592340951 and parameters: {'Cs': 2, 'solver': 'saga', 'penalty': 'l2'}. Best is trial 2 with value: 0.8872366790582404.\n",
      "[I 2023-09-08 21:46:12,058] Trial 4 finished with value: 0.8581081081081081 and parameters: {'Cs': 6, 'solver': 'liblinear', 'penalty': 'l2'}. Best is trial 2 with value: 0.8872366790582404.\n"
     ]
    }
   ],
   "source": [
    "# ОСТОРОЖНО: ВРЕМЯ ВЫПОЛНЕНИЯ ЭТОГО БЛОКА ПОРЯДКА 5 МИНУТ!!!\n",
    "\n",
    "# отключим вывод предупреждений из-за большого количества предупреждений об отсутствии сходимости\n",
    "warnings.filterwarnings(action='ignore')\n",
    "os.environ[\"PYTHONWARNINGS\"] = \"ignore\" # Also affect subprocesses\n",
    "\n",
    "def optuna_lr(trial):\n",
    "\n",
    "# определяем параметры\n",
    "\n",
    "        x_C = trial.suggest_int('Cs',1,10)\n",
    "        cv = 5\n",
    "        solver = trial.suggest_categorical('solver', (\n",
    "#               'newton-cg', -- попытка избежать переобучения с использование кроссвалидации не дала успеха\n",
    "                'lbfgs', \n",
    "                'liblinear',\n",
    "                'sag',\n",
    "                'saga'))\n",
    "        penalty = trial.suggest_categorical('penalty',('l2','l2'))       \n",
    "        \n",
    "      \n",
    "# создаем модель - решили попробовать кросс-валидацию\n",
    "        model = linear_model.LogisticRegressionCV(\n",
    "                cv=cv,\n",
    "                random_state=42, \n",
    "                max_iter=50, \n",
    "                penalty=penalty,\n",
    "                Cs=x_C,\n",
    "                solver=solver,\n",
    "                scoring='f1'\n",
    "        )\n",
    "\n",
    "# обучаем модель\n",
    "        model.fit(X_train, y_train)\n",
    "\n",
    "        score = model.score(X_train, y_train)\n",
    "\n",
    "        return score\n",
    "\n",
    "# cоздаем объект исследования\n",
    "# можем напрямую указать, что нам необходимо максимизировать метрику direction=\"maximize\"\n",
    "\n",
    "sampler = optuna.samplers.TPESampler(seed=42)\n",
    "\n",
    "study = optuna.create_study(study_name=\"LogisticRegressionClassifier\", direction=\"maximize\", sampler=sampler)\n",
    "\n",
    "# ищем лучшую комбинацию гиперпараметров n_trials раз\n",
    "study.optimize(optuna_lr, n_trials=5)"
   ]
  },
  {
   "cell_type": "code",
   "execution_count": 20,
   "metadata": {},
   "outputs": [
    {
     "name": "stdout",
     "output_type": "stream",
     "text": [
      "Best parameters: {'Cs': 2, 'solver': 'sag', 'penalty': 'l2'}\n",
      "f1_score train (cross validation): 0.89\n"
     ]
    }
   ],
   "source": [
    "# metrics on the training set with cross validation\n",
    "print(\"Best parameters: {}\".format(study.best_params))\n",
    "print(\"f1_score train (cross validation): {:.2f}\".format(study.best_value))"
   ]
  },
  {
   "cell_type": "code",
   "execution_count": 21,
   "metadata": {},
   "outputs": [
    {
     "name": "stdout",
     "output_type": "stream",
     "text": [
      "accuracy test: 0.75\n",
      "f1_score test: 0.79\n"
     ]
    }
   ],
   "source": [
    "# test set metrics\n",
    "model = linear_model.LogisticRegressionCV(\n",
    "                **study.best_params,\n",
    "                random_state=42, \n",
    "                max_iter=50,\n",
    "        )\n",
    "\n",
    "\n",
    "model.fit(X_train, y_train)\n",
    "\n",
    "print(\"accuracy test: {:.2f}\".format(model.score(X_test, y_test)))\n",
    "y_test_pred = model.predict(X_test)\n",
    "print('f1_score test: {:.2f}'.format(metrics.f1_score(y_test, y_test_pred)))"
   ]
  },
  {
   "attachments": {},
   "cell_type": "markdown",
   "metadata": {},
   "source": [
    "CONCLUSION: 1) Using cross_validation on the training set to overcome the overfitting problem with the 'newton-cg' method was not successful. The optimizer came to the area F1_score = 1 on the training set and the result on the test set was no more than 0.73. The 'newton-cg' method had to be excluded from the parameters. 2) The use of cross-validation on the test sample did not bring a significant improvement for f1_score on the test sample, while the computation time increased significantly."
   ]
  },
  {
   "cell_type": "code",
   "execution_count": 22,
   "metadata": {},
   "outputs": [
    {
     "name": "stderr",
     "output_type": "stream",
     "text": [
      "[I 2023-09-08 21:48:21,759] Trial 5 finished with value: 0.8515337423312883 and parameters: {'Cs': 9, 'solver': 'sag', 'penalty': 'l2'}. Best is trial 2 with value: 0.8872366790582404.\n",
      "[I 2023-09-08 21:48:22,062] Trial 6 finished with value: 0.7231944786788266 and parameters: {'Cs': 1, 'solver': 'lbfgs', 'penalty': 'l2'}. Best is trial 2 with value: 0.8872366790582404.\n",
      "[I 2023-09-08 21:48:22,968] Trial 7 finished with value: 0.9067901234567901 and parameters: {'Cs': 2, 'solver': 'lbfgs', 'penalty': 'l2'}. Best is trial 7 with value: 0.9067901234567901.\n",
      "[I 2023-09-08 21:48:25,165] Trial 8 finished with value: 0.7233727810650886 and parameters: {'Cs': 1, 'solver': 'saga', 'penalty': 'l2'}. Best is trial 7 with value: 0.9067901234567901.\n",
      "[I 2023-09-08 21:48:43,978] Trial 9 finished with value: 0.8413329257107918 and parameters: {'Cs': 4, 'solver': 'saga', 'penalty': 'l2'}. Best is trial 7 with value: 0.9067901234567901.\n"
     ]
    }
   ],
   "source": [
    "# let's try to improve adding more trials\n",
    "\n",
    "study.optimize(optuna_lr, n_trials=5)"
   ]
  },
  {
   "cell_type": "code",
   "execution_count": 23,
   "metadata": {},
   "outputs": [
    {
     "name": "stdout",
     "output_type": "stream",
     "text": [
      "Best parameters {'Cs': 2, 'solver': 'lbfgs', 'penalty': 'l2'}\n",
      "f1_score train: 0.91\n"
     ]
    }
   ],
   "source": [
    "# training set results\n",
    "print(\"Best parameters {}\".format(study.best_params))\n",
    "print(\"f1_score train: {:.2f}\".format(study.best_value))"
   ]
  },
  {
   "cell_type": "code",
   "execution_count": 24,
   "metadata": {},
   "outputs": [
    {
     "name": "stdout",
     "output_type": "stream",
     "text": [
      "accuracy test: 0.74\n",
      "f1_score test: 0.78\n"
     ]
    }
   ],
   "source": [
    "# test set metrics\n",
    "model = linear_model.LogisticRegressionCV(\n",
    "                **study.best_params,\n",
    "                random_state=42, \n",
    "                max_iter=50,\n",
    "        )\n",
    "\n",
    "\n",
    "model.fit(X_train, y_train)\n",
    "\n",
    "print(\"accuracy test: {:.2f}\".format(model.score(X_test, y_test)))\n",
    "y_test_pred = model.predict(X_test)\n",
    "print('f1_score test: {:.2f}'.format(metrics.f1_score(y_test, y_test_pred)))"
   ]
  },
  {
   "attachments": {},
   "cell_type": "markdown",
   "metadata": {},
   "source": [
    "It seems that we are again entering the area of overfitting - the metric improved on the training set, but worsened on the test set."
   ]
  },
  {
   "attachments": {},
   "cell_type": "markdown",
   "metadata": {},
   "source": [
    "## 3. Random forest hyperparameters optimization "
   ]
  },
  {
   "attachments": {},
   "cell_type": "markdown",
   "metadata": {},
   "source": [
    "Let' see the baseline. All parameters are set by default:"
   ]
  },
  {
   "cell_type": "code",
   "execution_count": 25,
   "metadata": {},
   "outputs": [
    {
     "name": "stdout",
     "output_type": "stream",
     "text": [
      "Train: 1.00\n",
      "Test: 0.83\n"
     ]
    }
   ],
   "source": [
    "# create a random forest class object\n",
    "\n",
    "rf = ensemble.RandomForestClassifier(random_state=42)\n",
    "\n",
    "# train the model\n",
    "rf.fit(X_train, y_train)\n",
    "# metrics for test and training sets\n",
    "y_train_pred = rf.predict(X_train)\n",
    "print('Train: {:.2f}'.format(metrics.f1_score(y_train, y_train_pred)))\n",
    "y_test_pred = rf.predict(X_test)\n",
    "print('Test: {:.2f}'.format(metrics.f1_score(y_test, y_test_pred)))"
   ]
  },
  {
   "attachments": {},
   "cell_type": "markdown",
   "metadata": {},
   "source": [
    "Now let’s set the hyperparameter grid:\n",
    "\n",
    "* 'n_estimators' - number of trees in the forest, default = 100\n",
    "\n",
    "* 'min_samples_leaf' - the minimum number of objects in the leaf;\n",
    "* 'max_depth': maximum tree depth, should not be too large, otherwise there will be overfitting;\n",
    "\n",
    "We will try RandomizedSearchCV() and then GridSearchCV()"
   ]
  },
  {
   "cell_type": "code",
   "execution_count": 26,
   "metadata": {},
   "outputs": [
    {
     "name": "stdout",
     "output_type": "stream",
     "text": [
      "CPU times: user 1.19 s, sys: 144 ms, total: 1.33 s\n",
      "Wall time: 12.4 s\n",
      "f1_score train: 0.94\n",
      "accuracy test: 0.81\n",
      "f1_score test: 0.84\n",
      "Best parameters: {'n_estimators': 140, 'min_samples_leaf': 5, 'max_depth': 35}\n"
     ]
    }
   ],
   "source": [
    "param_distributions = {'n_estimators': list(range(80, 200, 30)),\n",
    "              'min_samples_leaf': [5],\n",
    "              'max_depth': list(np.linspace(20, 40, 10, dtype=int))\n",
    "              }\n",
    "            \n",
    "random_search_forest = RandomizedSearchCV(\n",
    "    estimator=ensemble.RandomForestClassifier(random_state=42), \n",
    "    param_distributions=param_distributions, \n",
    "    cv=5,\n",
    "    n_iter = 10, \n",
    "    n_jobs = -1\n",
    ")  \n",
    "\n",
    "%time random_search_forest.fit(X_train, y_train) \n",
    "\n",
    "y_train_pred = random_search_forest.predict(X_train)\n",
    "print('f1_score train: {:.2f}'.format(metrics.f1_score(y_train, y_train_pred)))\n",
    "print(\"accuracy test: {:.2f}\".format(random_search_forest.score(X_test, y_test)))\n",
    "y_test_pred = random_search_forest.predict(X_test)\n",
    "print('f1_score test: {:.2f}'.format(metrics.f1_score(y_test, y_test_pred)))\n",
    "print(\"Best parameters: {}\".format(random_search_forest.best_params_))"
   ]
  },
  {
   "cell_type": "code",
   "execution_count": 27,
   "metadata": {},
   "outputs": [
    {
     "name": "stdout",
     "output_type": "stream",
     "text": [
      "CPU times: user 1.36 s, sys: 79.3 ms, total: 1.44 s\n",
      "Wall time: 31.1 s\n",
      "f1_score train: 0.94\n",
      "accuracy test: 0.81\n",
      "f1_score test: 0.83\n",
      "Best parameters: {'max_depth': 15, 'min_samples_leaf': 5, 'n_estimators': 130}\n"
     ]
    }
   ],
   "source": [
    "param_grid = {'n_estimators': list(range(100, 200, 30)),\n",
    "              'min_samples_leaf': [5,7],\n",
    "              'max_depth': [10,15,20,25]\n",
    "              }\n",
    "            \n",
    "grid_search_forest = GridSearchCV(\n",
    "    estimator=ensemble.RandomForestClassifier(random_state=42), \n",
    "    param_grid=param_grid, \n",
    "    cv=5, \n",
    "    n_jobs = -1\n",
    ")  \n",
    "\n",
    "%time grid_search_forest.fit(X_train, y_train) \n",
    "\n",
    "y_train_pred = grid_search_forest.predict(X_train)\n",
    "print('f1_score train: {:.2f}'.format(metrics.f1_score(y_train, y_train_pred)))\n",
    "print(\"accuracy test: {:.2f}\".format(grid_search_forest.score(X_test, y_test)))\n",
    "y_test_pred = grid_search_forest.predict(X_test)\n",
    "print('f1_score test: {:.2f}'.format(metrics.f1_score(y_test, y_test_pred)))\n",
    "print(\"Best parameters: {}\".format(grid_search_forest.best_params_))"
   ]
  },
  {
   "attachments": {},
   "cell_type": "markdown",
   "metadata": {},
   "source": [
    "We can see that RandomizedSearchCV found slightly better results and spent significantly less time. All results are similar to baseline."
   ]
  },
  {
   "attachments": {},
   "cell_type": "markdown",
   "metadata": {},
   "source": [
    "### 3. Random forest hyperparameters optimization: **Hyperopt**"
   ]
  },
  {
   "cell_type": "code",
   "execution_count": 28,
   "metadata": {},
   "outputs": [],
   "source": [
    "# let's set parameters space\n",
    "space={'n_estimators': hp.quniform('n_estimators', 100, 200, 1),\n",
    "       'max_depth' : hp.quniform('max_depth', 15, 26, 1),\n",
    "       'min_samples_leaf': hp.quniform('min_samples_leaf', 2, 10, 1)\n",
    "      }\n",
    "random_state = 42\n",
    "def hyperopt_rf(params, cv=5, X=X_train, y=y_train, random_state=random_state):\n",
    "    \n",
    "    params = {'n_estimators': int(params['n_estimators']), \n",
    "              'max_depth': int(params['max_depth']), \n",
    "             'min_samples_leaf': int(params['min_samples_leaf'])\n",
    "              }\n",
    "  \n",
    "    # create a model with parameters received\n",
    "\n",
    "    model = ensemble.RandomForestClassifier(**params, random_state=random_state)\n",
    "\n",
    "    # train the model\n",
    "    model.fit(X, y)\n",
    "\n",
    "    score = metrics.f1_score(y, model.predict(X))\n",
    "    \n",
    "    # in case of cross validation use the following code with the same number of clusters\n",
    "    # score = cross_val_score(model, X, y, cv=cv, scoring=\"f1\", n_jobs=-1).mean()\n",
    "\n",
    "    # return negative as we mimimise the score\n",
    "    return -score"
   ]
  },
  {
   "cell_type": "code",
   "execution_count": 29,
   "metadata": {},
   "outputs": [
    {
     "name": "stdout",
     "output_type": "stream",
     "text": [
      "100%|██████████| 20/20 [00:21<00:00,  1.08s/trial, best loss: -0.9860031104199067]\n",
      " Best parameters {'max_depth': 18.0, 'min_samples_leaf': 2.0, 'n_estimators': 103.0}\n",
      "CPU times: user 21.5 s, sys: 156 ms, total: 21.7 s\n",
      "Wall time: 21.7 s\n"
     ]
    }
   ],
   "source": [
    "%%time\n",
    "# run the search\n",
    "\n",
    "trials = Trials() # используется для логирования результатов\n",
    "\n",
    "best=fmin(hyperopt_rf, # our objective function\n",
    "          space=space, # hyperparameters space\n",
    "          algo=tpe.suggest, # default algorithm\n",
    "          max_evals=20, # max number of trials\n",
    "          trials=trials, # result of each trial\n",
    "          rstate=np.random.default_rng(42) # set the random state to reproduce results\n",
    "         )\n",
    "print(\" Best parameters {}\".format(best))"
   ]
  },
  {
   "cell_type": "code",
   "execution_count": 30,
   "metadata": {},
   "outputs": [
    {
     "name": "stdout",
     "output_type": "stream",
     "text": [
      "f1_score train: 0.99\n",
      "accuracy test: 0.81\n",
      "f1_score test: 0.84\n"
     ]
    }
   ],
   "source": [
    "# metrics for test set\n",
    "model = ensemble.RandomForestClassifier(\n",
    "    random_state=random_state, \n",
    "    n_estimators=int(best['n_estimators']),\n",
    "    max_depth=int(best['max_depth']),\n",
    "    min_samples_leaf=int(best['min_samples_leaf'])\n",
    ")\n",
    "model.fit(X_train, y_train)\n",
    "y_train_pred = model.predict(X_train)\n",
    "print('f1_score train: {:.2f}'.format(metrics.f1_score(y_train, y_train_pred)))\n",
    "print(\"accuracy test: {:.2f}\".format(model.score(X_test, y_test)))\n",
    "y_test_pred = model.predict(X_test)\n",
    "print('f1_score test: {:.2f}'.format(metrics.f1_score(y_test, y_test_pred)))"
   ]
  },
  {
   "attachments": {},
   "cell_type": "markdown",
   "metadata": {},
   "source": [
    "This is a good result but RandomSearch provided the same f1_score for less time. As the time is not a critical factor for us let's see if we can improve our metrics with more trials. Let's continue..."
   ]
  },
  {
   "cell_type": "code",
   "execution_count": 31,
   "metadata": {},
   "outputs": [
    {
     "name": "stdout",
     "output_type": "stream",
     "text": [
      "100%|██████████| 30/30 [00:14<00:00,  1.44s/trial, best loss: -0.9925187032418953]\n",
      "Best parameters {'max_depth': 21.0, 'min_samples_leaf': 2.0, 'n_estimators': 161.0}\n"
     ]
    }
   ],
   "source": [
    "# to continue search \n",
    "# we have to increase max_evals strictly more than the previous run  \n",
    "# we also have to use previous trials\n",
    "best=fmin(hyperopt_rf, # our objective function\n",
    "          space=space, # param space\n",
    "          algo=tpe.suggest, # bayesian algorithm by default\n",
    "          max_evals=30, # max iteration\n",
    "          trials=trials, # result of each trial\n",
    "          rstate=np.random.default_rng(42)\n",
    "         )\n",
    "print(\"Best parameters {}\".format(best))"
   ]
  },
  {
   "cell_type": "code",
   "execution_count": 32,
   "metadata": {},
   "outputs": [
    {
     "name": "stdout",
     "output_type": "stream",
     "text": [
      "f1_score train: 0.99\n",
      "accuracy test: 0.81\n",
      "f1_score test: 0.83\n"
     ]
    }
   ],
   "source": [
    "# metrics for test set\n",
    "model = ensemble.RandomForestClassifier(\n",
    "    random_state=random_state, \n",
    "    n_estimators=int(best['n_estimators']),\n",
    "    max_depth=int(best['max_depth']),\n",
    "    min_samples_leaf=int(best['min_samples_leaf'])\n",
    ")\n",
    "model.fit(X_train, y_train)\n",
    "y_train_pred = model.predict(X_train)\n",
    "print('f1_score train: {:.2f}'.format(metrics.f1_score(y_train, y_train_pred)))\n",
    "print(\"accuracy test: {:.2f}\".format(model.score(X_test, y_test)))\n",
    "y_test_pred = model.predict(X_test)\n",
    "print('f1_score test: {:.2f}'.format(metrics.f1_score(y_test, y_test_pred)))"
   ]
  },
  {
   "attachments": {},
   "cell_type": "markdown",
   "metadata": {},
   "source": [
    "Unfortunately, in our case we could not improve results with hyperopt adding more itarations but it stays very close to what we found using all optimization methods shown above."
   ]
  },
  {
   "attachments": {},
   "cell_type": "markdown",
   "metadata": {},
   "source": [
    "## 4. SUMMARY\n",
    "\n",
    "__We noticed that Random Forrest Trees provided sligtly better f1_score than logistic regression.__ \n",
    "\n",
    "__The overall recommedation for best model parameters would be RandomForrestClassifier {'max_depth': 18, 'min_samples_leaf': 2.0, 'n_estimators': 103.0}.__\n",
    "\n",
    "__These parameters found by HYPEROPT for Random Forrest Trees and these are the best cost efficient model hyperpatmeters we explored in this research as it has less max_depth and uses less number of estimators.__"
   ]
  }
 ],
 "metadata": {
  "kernelspec": {
   "display_name": "Python 3",
   "language": "python",
   "name": "python3"
  },
  "language_info": {
   "codemirror_mode": {
    "name": "ipython",
    "version": 3
   },
   "file_extension": ".py",
   "mimetype": "text/x-python",
   "name": "python",
   "nbconvert_exporter": "python",
   "pygments_lexer": "ipython3",
   "version": "3.10.9"
  },
  "orig_nbformat": 4,
  "vscode": {
   "interpreter": {
    "hash": "157de69062f6fb961b2bab5028ca1d8d79da5a53723325a531349754a247d1f2"
   }
  }
 },
 "nbformat": 4,
 "nbformat_minor": 2
}
